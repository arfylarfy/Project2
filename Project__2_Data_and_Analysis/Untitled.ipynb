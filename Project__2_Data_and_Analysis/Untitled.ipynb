{
 "cells": [
  {
   "cell_type": "raw",
   "id": "b303e74d-ac0f-4be7-8fb5-535eafc1f2a9",
   "metadata": {},
   "source": [
    "# Project2\n",
    "\n",
    "For this project, we will create a lex bot that will help determine a competitieve price offer for homes in Seattle. The lex bot will be supported by a machine learning model that we will choose based off a high level analisys due to time constraints and to focus the majority of our time on the lex bot itself. The machine learning models will consist of key features of site/dwellings as well as the listing price and solve for selling price. Even though the listing price and selling price have a higher correlation, we ant the machine learning model to take in account the selling price so the offer price can be the most competitive. The machine learning model we choose will have the highest coefficient of determination testing score as well as the lowest mean absolute error. \n",
    "\n",
    "## User Story\n",
    "\n",
    "As a real estate investor, I want to find a way to make a competitive offer based on historical data that takes into consideration site/dwelling features so my offer is the most desireable to the seller.\n",
    "\n",
    "## Acceptance Criteria\n",
    "\n",
    "Given the analysis of th eSeattle market, we will create a bot that will recommend an offer amount based on the best machine learning model and how aggressive the client wants to make their offer.\n",
    "\n",
    "## Method\n",
    "\n",
    "- We will analyze 5 years of historical data from May 2017 to May 2022, in Seattle, using three different types of machine learning models: Decision Tree, Random Forest, and Linear Regression. \n",
    "- Specific features include Zip Code, Bathrooms, Bedrooms, Lot Square Footage, Listing Price, Sold to List Price Percentage, Square Footage, and Property Type\n",
    "- We will then use the analysis to determine the best machine learning model to use in our lex bot\n",
    "- The bot will then suggest an offer price that our client would offer for a property based on our model and user input.\n",
    "\n",
    "\n",
    "\n",
    "## Technologies\n",
    "\n",
    "This project is written in python.\n",
    "\n",
    "### Data and Analysis - Machine Learning\n",
    "\n",
    "The required libraries in order to use the ML_Model_Analysis application are:\n",
    "\n",
    "INSERT SCREENSHOT\n",
    "    \n",
    "### Lambda Function\n",
    "\n",
    "The required libraries in order to run the lambda function are:\n",
    "\n",
    "INSERT SCREENSHOT\n",
    "\n",
    "### AWS\n",
    "\n",
    "- Lambda\n",
    "- S3\n",
    "- Lex Bot\n",
    "- Cloud Watch\n",
    "\n",
    "## Data and Analysis - Machine Learning\n",
    "\n",
    "- Create and view the dataframe from the CSV file\n",
    "\n",
    "INSERT SCREENSHOT\n",
    "\n",
    "- Clean the data.\n",
    "    - Keep columns that contain relevant features for the Machine Learning Model (Zip Code, Bathrooms, Bedrooms, Lot Square Footage, Listing Price, Selling Price, Sold to List Price Percentage, Square Footage, and Property Type)\n",
    "    - Drop NaN values\n",
    "    - Remove rows that contain \"0\" Values"
   ]
  },
  {
   "cell_type": "code",
   "execution_count": null,
   "id": "03232bdb-91e5-46d5-a964-b8b14be7c0dc",
   "metadata": {},
   "outputs": [],
   "source": []
  }
 ],
 "metadata": {
  "kernelspec": {
   "display_name": "Python (dev)",
   "language": "python",
   "name": "dev"
  },
  "language_info": {
   "codemirror_mode": {
    "name": "ipython",
    "version": 3
   },
   "file_extension": ".py",
   "mimetype": "text/x-python",
   "name": "python",
   "nbconvert_exporter": "python",
   "pygments_lexer": "ipython3",
   "version": "3.7.11"
  }
 },
 "nbformat": 4,
 "nbformat_minor": 5
}
