{
 "cells": [
  {
   "cell_type": "code",
   "execution_count": 99,
   "metadata": {},
   "outputs": [],
   "source": [
    "import pandas as pd\n",
    "import numpy as np\n",
    "\n",
    "from sklearn.model_selection import train_test_split, cross_val_score, cross_val_predict\n",
    "from sklearn.preprocessing import LabelEncoder, OneHotEncoder, OrdinalEncoder\n",
    "from sklearn.tree import DecisionTreeRegressor\n",
    "from imblearn.metrics import sensitivity_specificity_support\n",
    "from sklearn import svm\n",
    "from sklearn import datasets\n",
    "import pickle"
   ]
  },
  {
   "cell_type": "code",
   "execution_count": 92,
   "metadata": {},
   "outputs": [],
   "source": [
    "##HELPER FUNCTIONS##\n",
    "\n",
    "#read data file\n",
    "def readCSV():\n",
    "    data = pd.read_csv('housing_data.csv')\n",
    "    return data\n",
    "\n",
    "#clean data (code copied from helperclean file)\n",
    "def cleanData(data):\n",
    "    data.drop(['Listing Number', 'Street Number', 'Street Number Modifier', 'Street Direction', 'Street Name', 'Street Suffix', 'Street Post Direction', 'City', 'State', 'Area', 'Selling Date', 'Style Code', 'Sold to List Price Percentage'], axis=1,inplace=True)\n",
    "    data.replace([np.inf, -np.inf], np.nan, inplace=True)\n",
    "    data.dropna(subset=[\"Bathrooms\", \"Bedrooms\", \"Listing Price\"], how=\"all\", inplace=True)\n",
    "    data.dropna(how='any', inplace=True)\n",
    "    data = data.fillna(0)\n",
    "    data[[\"Bathrooms\", \"Bedrooms\", \"Listing Price\", \"Selling Price\"]] = data[[\"Bedrooms\", \"Bathrooms\", \"Listing Price\", \"Selling Price\"]].apply(pd.to_numeric)\n",
    "    data = data.astype({\"Bathrooms\": int, \"Bedrooms\": int, \"Listing Price\": int, \"Selling Price\": int})\n",
    "    PropertyType = {'House': 1, 'Condo': 2, 'Townhouse': 3,}\n",
    "    data.replace({\"Property Type\": PropertyType}, regex=True, inplace=True)\n",
    "    data = data.astype({\"Property Type\": int})\n",
    "    data['Listing Price'] = data['Listing Price'].round(decimals=2)\n",
    "    data.loc[(data['Bedrooms'] == 0)]\n",
    "    data.loc[(data['Bathrooms'] == 0)]\n",
    "    data.sort_values(by=['Listing Price'],ascending=False)\n",
    "    data.loc[(data['Listing Price'] > 0)].sort_values(by=['Listing Price'])\n",
    "    data.sort_values(by=['Square Footage'],ascending=False)\n",
    "    missing = data.loc[(data['Listing Price'] == 0)].append(data.loc[(data['Bathrooms'] == 0)])\n",
    "    missing_index_list = missing.reset_index()['index'].to_list()\n",
    "    missing_index_list.sort(reverse = True)\n",
    "    data = data.drop(missing_index_list,axis=0)\n",
    "\n",
    "    return data\n",
    "\n",
    "#train DTmodel with housing data\n",
    "def trainModel(data):\n",
    "\n",
    "    y = data['Selling Price']\n",
    "    X = data.drop(['Selling Price'],axis=1)\n",
    "\n",
    "\n",
    "    dt = DecisionTreeRegressor(max_depth=18)\n",
    "    dt.fit(X, y)\n",
    "    \n",
    "    return dt\n",
    "\n",
    "#creates a saved version of trained model\n",
    "def saveModel(dt):\n",
    "    with open('OfferAidmodel.pkl','wb') as f:\n",
    "        pickle.dump(dt,f)\n",
    "\n",
    "\n",
    "#runs required functions for training model\n",
    "def execute():\n",
    "    data = readCSV()\n",
    "    data = cleanData(data)\n",
    "    dtpred = trainModel(data)\n",
    "    saveModel(dtpred)"
   ]
  },
  {
   "cell_type": "code",
   "execution_count": 93,
   "metadata": {},
   "outputs": [],
   "source": [
    "execute()"
   ]
  },
  {
   "cell_type": "code",
   "execution_count": 115,
   "metadata": {},
   "outputs": [
    {
     "data": {
      "text/plain": [
       "array([182500.])"
      ]
     },
     "execution_count": 115,
     "metadata": {},
     "output_type": "execute_result"
    }
   ],
   "source": [
    "#only used for testing\n",
    "def savetoS3(pkl)\n",
    "import boto3\n",
    "\n",
    "cred = boto3.Session().get_credentials()\n",
    "ACCESS_KEY = cred.access_key\n",
    "SECRET_KEY = cred.secret_key\n",
    "\n",
    "s3client = boto3.client('s3', \n",
    "                        aws_access_key_id = ACCESS_KEY, \n",
    "                        aws_secret_access_key = SECRET_KEY, \n",
    "                       )\n",
    "\n",
    "with open('OfferAidmodel.pkl','rb') as f:\n",
    "    s3.upload_fileobj(f, 'bucketname', 'filenameintos3.txt')\n",
    "\n",
    "\n",
    "data.predict(userDF)"
   ]
  },
  {
   "cell_type": "markdown",
   "metadata": {},
   "source": []
  }
 ],
 "metadata": {
  "interpreter": {
   "hash": "30b884da31d8c13a610cda2d27fe25286c638aaabfac5f03b43d7871615fddd8"
  },
  "kernelspec": {
   "display_name": "Python 3.7.11 ('dev')",
   "language": "python",
   "name": "python3"
  },
  "language_info": {
   "codemirror_mode": {
    "name": "ipython",
    "version": 3
   },
   "file_extension": ".py",
   "mimetype": "text/x-python",
   "name": "python",
   "nbconvert_exporter": "python",
   "pygments_lexer": "ipython3",
   "version": "3.7.11"
  },
  "orig_nbformat": 4
 },
 "nbformat": 4,
 "nbformat_minor": 2
}
